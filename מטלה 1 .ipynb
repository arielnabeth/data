{
 "cells": [
  {
   "cell_type": "code",
   "execution_count": 1,
   "metadata": {},
   "outputs": [],
   "source": [
    "def my_func(x1,x2,x3):\n",
    "    if isinstance(x1, str) or isinstance(x2, str) or isinstance(x3, str):\n",
    "        return \"None\"\n",
    "    else:\n",
    "        resultat1=(x1+x2+x3)*(x2+x3)*x3\n",
    "        resultat2=x1+x2+x3\n",
    "        if resultat2 == 0:\n",
    "            return \" Not a number – denominator equals zero \"\n",
    "        if not all(isinstance(x, float) for x in [x1, x2, x3]):\n",
    "            return \"Error: parameters should be float\"\n",
    "        if isinstance(x1, str) or isinstance(x2, str) or isinstance(x3, str):\n",
    "            return None\n",
    "        else:\n",
    "            final_result=resultat1/resultat2\n",
    "            return float(final_result)"
   ]
  },
  {
   "cell_type": "code",
   "execution_count": 2,
   "metadata": {},
   "outputs": [
    {
     "data": {
      "text/plain": [
       "'Error: parameters should be float'"
      ]
     },
     "execution_count": 2,
     "metadata": {},
     "output_type": "execute_result"
    }
   ],
   "source": [
    "my_func(1,2,3)"
   ]
  },
  {
   "cell_type": "code",
   "execution_count": 3,
   "metadata": {},
   "outputs": [],
   "source": [
    "#--------------------------"
   ]
  },
  {
   "cell_type": "code",
   "execution_count": 4,
   "metadata": {},
   "outputs": [],
   "source": [
    "def revword(word:str) -> str:\n",
    "            word = word[::-1].lower()\n",
    "            return word"
   ]
  },
  {
   "cell_type": "code",
   "execution_count": 85,
   "metadata": {},
   "outputs": [],
   "source": [
    "def countword()->int:\n",
    "    bh = open(\"text.txt\",\"r\")\n",
    "    count = 1\n",
    "    lst = list()\n",
    "    for line in bh:\n",
    "        lineWords = line.rstrip().split()\n",
    "        lst.append(lineWords)\n",
    "        word = lst[0][0]\n",
    "        for i in lineWords:\n",
    "            x = revword(i)\n",
    "            if x == word:\n",
    "                count = count + 1\n",
    "    print(count)"
   ]
  },
  {
   "cell_type": "code",
   "execution_count": 86,
   "metadata": {},
   "outputs": [
    {
     "name": "stdout",
     "output_type": "stream",
     "text": [
      "6\n"
     ]
    }
   ],
   "source": [
    "countword()"
   ]
  },
  {
   "cell_type": "code",
   "execution_count": null,
   "metadata": {},
   "outputs": [],
   "source": []
  }
 ],
 "metadata": {
  "kernelspec": {
   "display_name": "Python 3",
   "language": "python",
   "name": "python3"
  },
  "language_info": {
   "codemirror_mode": {
    "name": "ipython",
    "version": 3
   },
   "file_extension": ".py",
   "mimetype": "text/x-python",
   "name": "python",
   "nbconvert_exporter": "python",
   "pygments_lexer": "ipython3",
   "version": "3.8.5"
  }
 },
 "nbformat": 4,
 "nbformat_minor": 4
}
